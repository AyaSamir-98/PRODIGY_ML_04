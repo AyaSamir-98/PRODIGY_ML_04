{
  "cells": [
    {
      "cell_type": "code",
      "execution_count": 1,
      "metadata": {
        "colab": {
          "base_uri": "https://localhost:8080/"
        },
        "id": "Fp3C7M1p5LLc",
        "outputId": "d311cb91-782e-4c90-d22c-a86e20027602"
      },
      "outputs": [
        {
          "name": "stdout",
          "output_type": "stream",
          "text": [
            "Requirement already satisfied: keras in /usr/local/lib/python3.10/dist-packages (2.15.0)\n",
            "Requirement already satisfied: tensorflow in /usr/local/lib/python3.10/dist-packages (2.15.0)\n",
            "Requirement already satisfied: absl-py>=1.0.0 in /usr/local/lib/python3.10/dist-packages (from tensorflow) (1.4.0)\n",
            "Requirement already satisfied: astunparse>=1.6.0 in /usr/local/lib/python3.10/dist-packages (from tensorflow) (1.6.3)\n",
            "Requirement already satisfied: flatbuffers>=23.5.26 in /usr/local/lib/python3.10/dist-packages (from tensorflow) (23.5.26)\n",
            "Requirement already satisfied: gast!=0.5.0,!=0.5.1,!=0.5.2,>=0.2.1 in /usr/local/lib/python3.10/dist-packages (from tensorflow) (0.5.4)\n",
            "Requirement already satisfied: google-pasta>=0.1.1 in /usr/local/lib/python3.10/dist-packages (from tensorflow) (0.2.0)\n",
            "Requirement already satisfied: h5py>=2.9.0 in /usr/local/lib/python3.10/dist-packages (from tensorflow) (3.9.0)\n",
            "Requirement already satisfied: libclang>=13.0.0 in /usr/local/lib/python3.10/dist-packages (from tensorflow) (16.0.6)\n",
            "Requirement already satisfied: ml-dtypes~=0.2.0 in /usr/local/lib/python3.10/dist-packages (from tensorflow) (0.2.0)\n",
            "Requirement already satisfied: numpy<2.0.0,>=1.23.5 in /usr/local/lib/python3.10/dist-packages (from tensorflow) (1.23.5)\n",
            "Requirement already satisfied: opt-einsum>=2.3.2 in /usr/local/lib/python3.10/dist-packages (from tensorflow) (3.3.0)\n",
            "Requirement already satisfied: packaging in /usr/local/lib/python3.10/dist-packages (from tensorflow) (23.2)\n",
            "Requirement already satisfied: protobuf!=4.21.0,!=4.21.1,!=4.21.2,!=4.21.3,!=4.21.4,!=4.21.5,<5.0.0dev,>=3.20.3 in /usr/local/lib/python3.10/dist-packages (from tensorflow) (3.20.3)\n",
            "Requirement already satisfied: setuptools in /usr/local/lib/python3.10/dist-packages (from tensorflow) (67.7.2)\n",
            "Requirement already satisfied: six>=1.12.0 in /usr/local/lib/python3.10/dist-packages (from tensorflow) (1.16.0)\n",
            "Requirement already satisfied: termcolor>=1.1.0 in /usr/local/lib/python3.10/dist-packages (from tensorflow) (2.4.0)\n",
            "Requirement already satisfied: typing-extensions>=3.6.6 in /usr/local/lib/python3.10/dist-packages (from tensorflow) (4.5.0)\n",
            "Requirement already satisfied: wrapt<1.15,>=1.11.0 in /usr/local/lib/python3.10/dist-packages (from tensorflow) (1.14.1)\n",
            "Requirement already satisfied: tensorflow-io-gcs-filesystem>=0.23.1 in /usr/local/lib/python3.10/dist-packages (from tensorflow) (0.35.0)\n",
            "Requirement already satisfied: grpcio<2.0,>=1.24.3 in /usr/local/lib/python3.10/dist-packages (from tensorflow) (1.60.0)\n",
            "Requirement already satisfied: tensorboard<2.16,>=2.15 in /usr/local/lib/python3.10/dist-packages (from tensorflow) (2.15.1)\n",
            "Requirement already satisfied: tensorflow-estimator<2.16,>=2.15.0 in /usr/local/lib/python3.10/dist-packages (from tensorflow) (2.15.0)\n",
            "Requirement already satisfied: keras<2.16,>=2.15.0 in /usr/local/lib/python3.10/dist-packages (from tensorflow) (2.15.0)\n",
            "Requirement already satisfied: wheel<1.0,>=0.23.0 in /usr/local/lib/python3.10/dist-packages (from astunparse>=1.6.0->tensorflow) (0.42.0)\n",
            "Requirement already satisfied: google-auth<3,>=1.6.3 in /usr/local/lib/python3.10/dist-packages (from tensorboard<2.16,>=2.15->tensorflow) (2.17.3)\n",
            "Requirement already satisfied: google-auth-oauthlib<2,>=0.5 in /usr/local/lib/python3.10/dist-packages (from tensorboard<2.16,>=2.15->tensorflow) (1.2.0)\n",
            "Requirement already satisfied: markdown>=2.6.8 in /usr/local/lib/python3.10/dist-packages (from tensorboard<2.16,>=2.15->tensorflow) (3.5.1)\n",
            "Requirement already satisfied: requests<3,>=2.21.0 in /usr/local/lib/python3.10/dist-packages (from tensorboard<2.16,>=2.15->tensorflow) (2.31.0)\n",
            "Requirement already satisfied: tensorboard-data-server<0.8.0,>=0.7.0 in /usr/local/lib/python3.10/dist-packages (from tensorboard<2.16,>=2.15->tensorflow) (0.7.2)\n",
            "Requirement already satisfied: werkzeug>=1.0.1 in /usr/local/lib/python3.10/dist-packages (from tensorboard<2.16,>=2.15->tensorflow) (3.0.1)\n",
            "Requirement already satisfied: cachetools<6.0,>=2.0.0 in /usr/local/lib/python3.10/dist-packages (from google-auth<3,>=1.6.3->tensorboard<2.16,>=2.15->tensorflow) (5.3.2)\n",
            "Requirement already satisfied: pyasn1-modules>=0.2.1 in /usr/local/lib/python3.10/dist-packages (from google-auth<3,>=1.6.3->tensorboard<2.16,>=2.15->tensorflow) (0.3.0)\n",
            "Requirement already satisfied: rsa<5,>=3.1.4 in /usr/local/lib/python3.10/dist-packages (from google-auth<3,>=1.6.3->tensorboard<2.16,>=2.15->tensorflow) (4.9)\n",
            "Requirement already satisfied: requests-oauthlib>=0.7.0 in /usr/local/lib/python3.10/dist-packages (from google-auth-oauthlib<2,>=0.5->tensorboard<2.16,>=2.15->tensorflow) (1.3.1)\n",
            "Requirement already satisfied: charset-normalizer<4,>=2 in /usr/local/lib/python3.10/dist-packages (from requests<3,>=2.21.0->tensorboard<2.16,>=2.15->tensorflow) (3.3.2)\n",
            "Requirement already satisfied: idna<4,>=2.5 in /usr/local/lib/python3.10/dist-packages (from requests<3,>=2.21.0->tensorboard<2.16,>=2.15->tensorflow) (3.6)\n",
            "Requirement already satisfied: urllib3<3,>=1.21.1 in /usr/local/lib/python3.10/dist-packages (from requests<3,>=2.21.0->tensorboard<2.16,>=2.15->tensorflow) (2.0.7)\n",
            "Requirement already satisfied: certifi>=2017.4.17 in /usr/local/lib/python3.10/dist-packages (from requests<3,>=2.21.0->tensorboard<2.16,>=2.15->tensorflow) (2023.11.17)\n",
            "Requirement already satisfied: MarkupSafe>=2.1.1 in /usr/local/lib/python3.10/dist-packages (from werkzeug>=1.0.1->tensorboard<2.16,>=2.15->tensorflow) (2.1.3)\n",
            "Requirement already satisfied: pyasn1<0.6.0,>=0.4.6 in /usr/local/lib/python3.10/dist-packages (from pyasn1-modules>=0.2.1->google-auth<3,>=1.6.3->tensorboard<2.16,>=2.15->tensorflow) (0.5.1)\n",
            "Requirement already satisfied: oauthlib>=3.0.0 in /usr/local/lib/python3.10/dist-packages (from requests-oauthlib>=0.7.0->google-auth-oauthlib<2,>=0.5->tensorboard<2.16,>=2.15->tensorflow) (3.2.2)\n"
          ]
        }
      ],
      "source": [
        "!pip install keras\n",
        "!pip install tensorflow"
      ]
    },
    {
      "cell_type": "code",
      "execution_count": 2,
      "metadata": {
        "colab": {
          "base_uri": "https://localhost:8080/"
        },
        "id": "Cl0mdtofKTRh",
        "outputId": "37fc49ff-8930-4147-e585-479e57a0c54c"
      },
      "outputs": [
        {
          "name": "stdout",
          "output_type": "stream",
          "text": [
            "Drive already mounted at /content/drive; to attempt to forcibly remount, call drive.mount(\"/content/drive\", force_remount=True).\n"
          ]
        }
      ],
      "source": [
        "from google.colab import drive\n",
        "drive.mount('/content/drive')"
      ]
    },
    {
      "cell_type": "code",
      "execution_count": 3,
      "metadata": {
        "id": "roniiZde4d1w"
      },
      "outputs": [],
      "source": [
        "import os\n",
        "from random import shuffle\n",
        "import shutil\n",
        "import cv2\n",
        "import numpy as np\n",
        "from keras.preprocessing.image import ImageDataGenerator\n",
        "import tensorflow as tf"
      ]
    },
    {
      "cell_type": "code",
      "execution_count": 4,
      "metadata": {
        "colab": {
          "base_uri": "https://localhost:8080/"
        },
        "id": "Nxf-6wRA5khd",
        "outputId": "c6e1964a-f18d-4109-bdcc-02b359b2b746"
      },
      "outputs": [
        {
          "data": {
            "text/plain": [
              "['Hello', 'candy', 'who', 'No', 'I love you', 'Yes', 'C', 'B', 'A']"
            ]
          },
          "execution_count": 4,
          "metadata": {},
          "output_type": "execute_result"
        }
      ],
      "source": [
        "class_name = os.listdir('/content/drive/MyDrive/Task - 04/Data')\n",
        "class_name"
      ]
    },
    {
      "cell_type": "code",
      "execution_count": 5,
      "metadata": {
        "colab": {
          "base_uri": "https://localhost:8080/"
        },
        "id": "laRETS8-5vz7",
        "outputId": "a31f5e72-c932-45cd-c4a9-58e186cef80f"
      },
      "outputs": [
        {
          "name": "stdout",
          "output_type": "stream",
          "text": [
            "{'Hello': 0, 'candy': 1, 'who': 2, 'No': 3, 'I love you': 4, 'Yes': 5, 'C': 6, 'B': 7, 'A': 8}\n"
          ]
        }
      ],
      "source": [
        "class_name_labels = {class_name:i for i , class_name in enumerate(class_name)}\n",
        "\n",
        "nb_classes = len(class_name)\n",
        "\n",
        "print(class_name_labels)\n",
        "\n",
        "img_size = (224,224)"
      ]
    },
    {
      "cell_type": "code",
      "execution_count": 6,
      "metadata": {
        "id": "UvNg56Uv5Jup"
      },
      "outputs": [],
      "source": [
        "def load_data():\n",
        "    DIRECTORY = '/content/drive/MyDrive/Task - 04/Data1'\n",
        "    CATEGORY = [\"train\", \"test\"]\n",
        "    output = []\n",
        "\n",
        "    for category in CATEGORY:\n",
        "        path = os.path.join(DIRECTORY, category)\n",
        "\n",
        "        if not os.path.exists(path):\n",
        "            print(f\"Warning: {path} does not exist.\")\n",
        "            continue\n",
        "\n",
        "        images = []\n",
        "        labels = []\n",
        "\n",
        "        print(\"Loading {}\".format(category))\n",
        "\n",
        "        for folder in os.listdir(path):\n",
        "            label = class_name_labels.get(folder, -1)\n",
        "\n",
        "            if label == -1:\n",
        "                print(f\"Warning: Label not found for folder {folder}. Skipping.\")\n",
        "                continue\n",
        "\n",
        "            for file in os.listdir(os.path.join(path, folder)):\n",
        "                img_path = os.path.join(os.path.join(path, folder), file)\n",
        "\n",
        "                try:\n",
        "                    image = cv2.imread(img_path)\n",
        "                    image = cv2.cvtColor(image, cv2.COLOR_BGR2RGB)\n",
        "                    image = cv2.resize(image, img_size)\n",
        "\n",
        "                    # Normalize pixel values to be between 0 and 1\n",
        "                    image = image / 255.0\n",
        "\n",
        "                    images.append(image)\n",
        "                    labels.append(label)\n",
        "                except Exception as e:\n",
        "                    print(f\"Error loading image {img_path}: {str(e)}\")\n",
        "\n",
        "        images = np.array(images, dtype='float32')\n",
        "        labels = np.array(labels, dtype='int32')\n",
        "\n",
        "        # Shuffle the data\n",
        "        indices = np.arange(images.shape[0])\n",
        "        np.random.shuffle(indices)\n",
        "\n",
        "        images = images[indices]\n",
        "        labels = labels[indices]\n",
        "\n",
        "        # Data augmentation using Keras\n",
        "        if category == \"train\":\n",
        "            datagen = ImageDataGenerator(\n",
        "                rotation_range=20,\n",
        "                width_shift_range=0.2,\n",
        "                height_shift_range=0.2,\n",
        "                shear_range=0.2,\n",
        "                zoom_range=0.2,\n",
        "                horizontal_flip=True,\n",
        "                fill_mode='nearest'\n",
        "            )\n",
        "\n",
        "            augmented_images = []\n",
        "            augmented_labels = []\n",
        "\n",
        "            for i in range(images.shape[0]):\n",
        "                img = np.expand_dims(images[i], axis=0)\n",
        "                datagen.fit(img)\n",
        "                augmented_batch = datagen.flow(img, batch_size=1)\n",
        "\n",
        "                augmented_images.append(augmented_batch[0][0])\n",
        "                augmented_labels.append(labels[i])\n",
        "\n",
        "            augmented_images = np.array(augmented_images)\n",
        "            augmented_labels = np.array(augmented_labels)\n",
        "\n",
        "            images = np.concatenate((images, augmented_images), axis=0)\n",
        "            labels = np.concatenate((labels, augmented_labels), axis=0)\n",
        "\n",
        "        output.append((images, labels))\n",
        "\n",
        "    return output"
      ]
    },
    {
      "cell_type": "code",
      "execution_count": 7,
      "metadata": {
        "colab": {
          "base_uri": "https://localhost:8080/"
        },
        "id": "4oelAo2o5Zp8",
        "outputId": "9cf34dbb-47cf-40e8-b9d1-43a4acc9ce50"
      },
      "outputs": [
        {
          "name": "stdout",
          "output_type": "stream",
          "text": [
            "Loading train\n",
            "Loading test\n"
          ]
        }
      ],
      "source": [
        "(train_images , train_labels) , (test_images, test_labels) = load_data()"
      ]
    },
    {
      "cell_type": "code",
      "execution_count": 8,
      "metadata": {
        "id": "xLcXCb1V58Hx"
      },
      "outputs": [],
      "source": [
        "from sklearn.utils import shuffle\n",
        "from keras import layers, models"
      ]
    },
    {
      "cell_type": "code",
      "execution_count": 9,
      "metadata": {
        "id": "5cLeJnOB5c0f"
      },
      "outputs": [],
      "source": [
        "train_images, train_labels = shuffle(train_images,train_labels, random_state=25)\n",
        "\n",
        "train_images = np.array(train_images)\n",
        "train_labels = np.array(train_labels)"
      ]
    },
    {
      "cell_type": "code",
      "execution_count": 10,
      "metadata": {
        "id": "EGu_-mFz55tQ"
      },
      "outputs": [],
      "source": [
        "model = models.Sequential([\n",
        "    layers.Conv2D(32, (3, 3), activation='relu', input_shape=(224, 224, 3)),\n",
        "    layers.MaxPooling2D(2,2),\n",
        "    layers.Conv2D(64,(3,3),activation='relu'),\n",
        "    layers.MaxPooling2D(2,2),\n",
        "    layers.Conv2D(128, (3, 3), activation='relu'),\n",
        "    layers.MaxPooling2D(2,2),\n",
        "    layers.Flatten(),\n",
        "    layers.Dense(512, activation=tf.nn.relu),\n",
        "    layers.Dropout(0.5),\n",
        "    layers.Dense(9, activation=tf.nn.softmax)\n",
        "])"
      ]
    },
    {
      "cell_type": "code",
      "execution_count": 11,
      "metadata": {
        "id": "KjH_1a7B6AjH"
      },
      "outputs": [],
      "source": [
        "model.compile(optimizer='adam', loss='sparse_categorical_crossentropy', metrics=['accuracy'])"
      ]
    },
    {
      "cell_type": "code",
      "execution_count": 11,
      "metadata": {
        "id": "agDPNgj2LoXg"
      },
      "outputs": [],
      "source": []
    },
    {
      "cell_type": "code",
      "execution_count": 12,
      "metadata": {
        "colab": {
          "base_uri": "https://localhost:8080/"
        },
        "id": "5F6xovb26CvH",
        "outputId": "bff851d7-eeb0-43e1-dae5-2eab5419892b"
      },
      "outputs": [
        {
          "name": "stdout",
          "output_type": "stream",
          "text": [
            "Epoch 1/6\n",
            "34/34 [==============================] - 24s 368ms/step - loss: 1.4702 - accuracy: 0.5767 - val_loss: 0.4079 - val_accuracy: 0.8550\n",
            "Epoch 2/6\n",
            "34/34 [==============================] - 7s 208ms/step - loss: 0.3337 - accuracy: 0.8842 - val_loss: 0.2208 - val_accuracy: 0.9266\n",
            "Epoch 3/6\n",
            "34/34 [==============================] - 7s 198ms/step - loss: 0.1560 - accuracy: 0.9472 - val_loss: 0.1778 - val_accuracy: 0.9275\n",
            "Epoch 4/6\n",
            "34/34 [==============================] - 7s 216ms/step - loss: 0.0793 - accuracy: 0.9749 - val_loss: 0.1931 - val_accuracy: 0.9322\n",
            "Epoch 5/6\n",
            "34/34 [==============================] - 8s 230ms/step - loss: 0.0685 - accuracy: 0.9772 - val_loss: 0.1045 - val_accuracy: 0.9638\n",
            "Epoch 6/6\n",
            "34/34 [==============================] - 7s 210ms/step - loss: 0.0511 - accuracy: 0.9823 - val_loss: 0.1930 - val_accuracy: 0.9359\n"
          ]
        }
      ],
      "source": [
        "history = model.fit(train_images, train_labels, batch_size=128, epochs=6, validation_split=0.2)"
      ]
    },
    {
      "cell_type": "code",
      "execution_count": 14,
      "metadata": {
        "id": "zsbuMzfuMB4a"
      },
      "outputs": [],
      "source": [
        "model.save(\"/content/drive/MyDrive/Task - 04/hand.h5\")"
      ]
    },
    {
      "cell_type": "code",
      "execution_count": 15,
      "metadata": {
        "colab": {
          "base_uri": "https://localhost:8080/",
          "height": 927
        },
        "id": "4bkioA8dYy-B",
        "outputId": "e44e58a5-e9d9-4b0f-beae-3f89f5d9ddeb"
      },
      "outputs": [
        {
          "data": {
            "image/png": "[encoded data removed]",
            "text/plain": [
              "<Figure size 640x480 with 1 Axes>"
            ]
          },
          "metadata": {},
          "output_type": "display_data"
        },
        {
          "data": {
            "image/png": "[encoded data removed]",
            "text/plain": [
              "<Figure size 640x480 with 1 Axes>"
            ]
          },
          "metadata": {},
          "output_type": "display_data"
        }
      ],
      "source": [
        "import matplotlib.pyplot as plt\n",
        "\n",
        "# Plot training & validation accuracy values\n",
        "plt.plot(history.history['accuracy'])\n",
        "plt.plot(history.history['val_accuracy'])\n",
        "plt.title('Model accuracy')\n",
        "plt.xlabel('Epoch')\n",
        "plt.ylabel('Accuracy')\n",
        "plt.legend(['Train', 'Validation'], loc='upper left')\n",
        "plt.show()\n",
        "\n",
        "# Plot training & validation loss values\n",
        "plt.plot(history.history['loss'])\n",
        "plt.plot(history.history['val_loss'])\n",
        "plt.title('Model loss')\n",
        "plt.xlabel('Epoch')\n",
        "plt.ylabel('Loss')\n",
        "plt.legend(['Train', 'Validation'], loc='upper left')\n",
        "plt.show()\n"
      ]
    },
    {
      "cell_type": "code",
      "execution_count": null,
      "metadata": {
        "id": "SboFVt8TZepc"
      },
      "outputs": [],
      "source": []
    }
  ],
  "metadata": {
    "accelerator": "GPU",
    "colab": {
      "gpuType": "T4",
      "provenance": []
    },
    "kernelspec": {
      "display_name": "Python 3",
      "name": "python3"
    },
    "language_info": {
      "name": "python",
      "version": "3.10.4"
    }
  },
  "nbformat": 4,
  "nbformat_minor": 0
}
